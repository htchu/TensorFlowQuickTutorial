{
  "nbformat": 4,
  "nbformat_minor": 0,
  "metadata": {
    "colab": {
      "name": "TestDigitImage.ipynb",
      "version": "0.3.2",
      "provenance": []
    },
    "kernelspec": {
      "name": "python3",
      "display_name": "Python 3"
    }
  },
  "cells": [
    {
      "cell_type": "code",
      "metadata": {
        "id": "yncKN_yutlaI",
        "colab_type": "code",
        "colab": {}
      },
      "source": [
        "from PIL import Image\n",
        "from IPython.display import display"
      ],
      "execution_count": 0,
      "outputs": []
    },
    {
      "cell_type": "code",
      "metadata": {
        "id": "kmlMlf_tSSNF",
        "colab_type": "code",
        "colab": {}
      },
      "source": [
        "img = Image.open( \"Digit4.bmp\" )\n",
        "print(img.format, img.size, img.mode)"
      ],
      "execution_count": 0,
      "outputs": []
    },
    {
      "cell_type": "code",
      "metadata": {
        "id": "fqS0WOmKup4A",
        "colab_type": "code",
        "colab": {}
      },
      "source": [
        "display(img)"
      ],
      "execution_count": 0,
      "outputs": []
    },
    {
      "cell_type": "code",
      "metadata": {
        "id": "gN2RPHQLu94y",
        "colab_type": "code",
        "colab": {}
      },
      "source": [
        "import tensorflow as tf\n"
      ],
      "execution_count": 0,
      "outputs": []
    },
    {
      "cell_type": "code",
      "metadata": {
        "id": "nTQmIbhb92Le",
        "colab_type": "code",
        "colab": {}
      },
      "source": [
        "model = tf.keras.models.load_model('my_model.h5')\n",
        "model.summary()"
      ],
      "execution_count": 0,
      "outputs": []
    },
    {
      "cell_type": "code",
      "metadata": {
        "id": "PTNsIC4U_CxW",
        "colab_type": "code",
        "colab": {}
      },
      "source": [
        "import numpy as np\n",
        "img = np.resize(img, (28,28))\n",
        "im2arr = np.array(img)\n",
        "im2arr = im2arr.reshape(1, 28,28)\n",
        "y_pred = new_model.predict_classes(im2arr)\n",
        "print(y_pred)"
      ],
      "execution_count": 0,
      "outputs": []
    },
    {
      "cell_type": "code",
      "metadata": {
        "id": "QuCk5rsDS9_T",
        "colab_type": "code",
        "colab": {}
      },
      "source": [
        "img = Image.open( \"DigitX.bmp\" )\n",
        "print(img.format, img.size, img.mode)\n",
        "display(img)"
      ],
      "execution_count": 0,
      "outputs": []
    },
    {
      "cell_type": "code",
      "metadata": {
        "id": "n7F5BdZBTCc-",
        "colab_type": "code",
        "colab": {}
      },
      "source": [
        "img = np.resize(img, (28,28))\n",
        "im2arr = np.array(img)\n",
        "im2arr = im2arr.reshape(1, 28,28)\n",
        "y_pred = new_model.predict_classes(im2arr)\n",
        "print(y_pred)"
      ],
      "execution_count": 0,
      "outputs": []
    }
  ]
}